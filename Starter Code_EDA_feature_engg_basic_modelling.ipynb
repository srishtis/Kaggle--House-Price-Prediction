{
  "cells": [
    {
      "metadata": {
        "_uuid": "7482f2105ef62d643e7c2d37d1f987c127100551"
      },
      "cell_type": "markdown",
      "source": "### Importing packages"
    },
    {
      "metadata": {
        "_uuid": "28fb92cc32ef11450de199a471e3759d97f215db"
      },
      "cell_type": "markdown",
      "source": "A few of these packages might not being used right now. Will use as I build more models"
    },
    {
      "metadata": {
        "_uuid": "8f2839f25d086af736a60e9eeb907d3b93b6e0e5",
        "_cell_guid": "b1076dfc-b9ad-4769-8c92-a6c4dae69d19",
        "trusted": true
      },
      "cell_type": "code",
      "source": "import pandas as pd\n\nimport numpy as np\nfrom scipy import stats\nfrom math import ceil\nfrom scipy.stats import norm\n\nimport matplotlib.pyplot as plt\nimport seaborn as sns\n%matplotlib inline\n\nfrom sklearn import preprocessing\nfrom sklearn.model_selection import GridSearchCV, RepeatedKFold, cross_val_score\nfrom sklearn.metrics import make_scorer\nfrom sklearn import linear_model\nfrom sklearn.neighbors import KNeighborsRegressor\nfrom sklearn.ensemble import RandomForestRegressor, GradientBoostingRegressor\nimport xgboost as xgb\nimport lightgbm as lgb\nfrom sklearn.preprocessing import PolynomialFeatures",
      "execution_count": null,
      "outputs": []
    },
    {
      "metadata": {
        "_cell_guid": "79c7e3d0-c299-4dcb-8224-4455121ee9b0",
        "_uuid": "d629ff2d2480ee46fbb7e2d37f6b5fab8052498a",
        "trusted": true
      },
      "cell_type": "code",
      "source": "import warnings\nwarnings.filterwarnings('ignore')\n\ntrain_df = pd.read_csv('../input/train.csv')\ntest_df = pd.read_csv('../input/test.csv')",
      "execution_count": null,
      "outputs": []
    },
    {
      "metadata": {
        "_uuid": "8ecb9751a7915143cdfab861c03219b47bc7f6af"
      },
      "cell_type": "markdown",
      "source": "### Data Exploration and Understanding"
    },
    {
      "metadata": {
        "trusted": true,
        "_uuid": "dd7de15fdd467bbca0e3e5b2377600c4fa706011"
      },
      "cell_type": "code",
      "source": "train_df.shape # 1460,81\ntest_df.shape # 1459,80",
      "execution_count": null,
      "outputs": []
    },
    {
      "metadata": {
        "trusted": true,
        "_uuid": "9423c7c5ca5e4f5ad0ef9d47c850d81324dfbc39"
      },
      "cell_type": "code",
      "source": "train_df.info()\n#checking all non-numerical columns\nfor c in train_df.columns:\n    col_type = train_df[c].dtype\n    if col_type != 'int64' and col_type != 'float64':\n        print(c)",
      "execution_count": null,
      "outputs": []
    },
    {
      "metadata": {
        "trusted": true,
        "_uuid": "026321bfb039b658a0266553f338c52d54da6b48"
      },
      "cell_type": "code",
      "source": "# Plot the Correlation map to see how features are correlated with target: SalePrice\ncorr_matrix = train_df.corr()\nplt.subplots(figsize=(12,9))\nsns.heatmap(corr_matrix, vmax=0.9, square=True)",
      "execution_count": null,
      "outputs": []
    },
    {
      "metadata": {
        "_uuid": "a2313ca7ead850bc21ee51e9cd8ee9ab7ddb5178"
      },
      "cell_type": "markdown",
      "source": "Let us do some feature selection on the basis of the correlations above and some general understanding of the problem:\n\n1. If we look at the heatmap above, all white squares indicate high correlation between the corresponding variables\n2. 'GarageCars' and 'GarageArea' show high correlation and is aligned with our intuitive thinking as well. More the area of the Garage , more the number of cars. Furthermore, both seem to have a similar (and relatively high) correlation with 'SalePrice'. This shows a clear case of multicollinearity. Thus we can remove one of them and retain the other.\n3. Furthermore, 'TotalBsmtSF' and '1stFlrSF' show high correlation again indicating multicollinearity. We should thus remove one of these.\n4. If we look at the correlation between 'TotalBsmtSF' and 'SalePrice', we see a white square i.e. high correlation. This indicates that TotalBsmtSF should be retained as it can help with the SalePrice prediction\n5. Another set of variables that show high correlation are 'YearBuilt' and 'GarageYrBlt'. Let us look at two other aspects: percentage of missing values in 'GarageYrBlt' and the correlation between 'YearBuilt' and 'SalePrice'. 'GarageYrBlt' has over a 5% missing values. Also, 'YearBuilt' seems to have a decent (around 0.5) correlation with 'SalePrice'. It seems like we should retain 'YearBuilt' and let go of 'GarageYrBlt'\n6. Also, besides 'YearBuilt', ( one of 'GarageCars' or 'GarageArea') and 'TotalBsmtSF', we should keep in mind four other variables that seem to have good correlation with 'SalePrice': 'OverallQual', 'GrLivArea', 'FullBath' and 'TotRmsAbvGrd'\n7. However, if we look at the correlation of 'TotRmsAbvGrd' with other variables, we see a high correlation with 'GrLivArea'. To be able to make a call on which variable to remove, let us look at some more analysis."
    },
    {
      "metadata": {
        "trusted": true,
        "_uuid": "88084dc54e18a0d4942a632487f34bd4397c1b07"
      },
      "cell_type": "code",
      "source": "#scatterplot\nsns.set()\ncols = ['SalePrice', 'OverallQual', 'GrLivArea', 'GarageCars','GarageArea' ,'TotalBsmtSF', 'FullBath', 'YearBuilt','TotRmsAbvGrd']\nsns.pairplot(train_df[cols], size = 2.5)\nplt.show();",
      "execution_count": null,
      "outputs": []
    },
    {
      "metadata": {
        "_uuid": "1c56119f2bb1db2360ce88bb5a39fec4d26b279d"
      },
      "cell_type": "markdown",
      "source": "Following are the major observations from here:\n1. GrLivArea and TotRmsAbvGrd show high linear relationship. \n2. Let us shift focus to GrLivArea and TotalBsmtSF show a linear relationship with almost a boundary defining the plot. This basically indicates that GrLivArea defined the higher limit for the TotalBsmtSF (Basement area). Not many houses will have basements larger than the ground floor living area.\n3. 'SalePrice' shows almost a steep increase with 'YearBuilt', basically indicating that prices increase (almost eponentially) as the houses decrease in age. Most recent houses are highly priced.\n\nWe shall just zoom into the correlation matrix with 'SalePrice' and a few other features:\n"
    },
    {
      "metadata": {
        "trusted": true,
        "_uuid": "aee243a91363ba0aef671bcb3e52a144061064ea"
      },
      "cell_type": "code",
      "source": "\n#saleprice correlation matrix\nk = 10 #number of variables for heatmap\ncols = corr_matrix.nlargest(k, 'SalePrice')['SalePrice'].index\ncm = np.corrcoef(train_df[cols].values.T)\nsns.set(font_scale=1.25)\nhm = sns.heatmap(cm, cbar=True, annot=True, square=True, fmt='.2f', annot_kws={'size': 10}, yticklabels=cols.values, xticklabels=cols.values)\nplt.show()",
      "execution_count": null,
      "outputs": []
    },
    {
      "metadata": {
        "_uuid": "26e7adab5fea1e61c0f01c3016ff81e578231bc6"
      },
      "cell_type": "markdown",
      "source": "Thus final list of variables to be definitely considered and variables to be excluded:\n\n1. Variable with highest correlation with 'SalePrice' is 'OverallQual'-----> Retain 'OverallQual'\n\n2. High correlation between 'GarageCars' and 'GarageArea'  + High correlation between 'GarageCars' and 'SalePrice' ----> Keep 'GarageCars'; remove 'GarageArea'\n\n3. 'TotalBsmtSF' and '1stFlrSF' have high correlation and are equally correlated with 'SalePrice'-----> Randomly selecting 'TotalBsmtSF', remove '1stFlrSF'\n\n4. Of 'GarageYrBlt' and 'YearBuilt', 'YearBuilt' has lower missing values and higher correlation with 'SalePrice'-----> retain 'YearBuilt', remove 'GarageYrBlt'\n\n5. Strong correlation between 'TotRmsAbvGrd' and 'GrLivArea' + higher correlation between 'GrLivArea'  and 'SalePrice'-------> Keep 'GrLivArea' ; remove 'TotRmsAbvGrd'\n\n6. Retain 'FullBath' as we did not see correlation with any other variable but it has a significant association with 'SalePrice'"
    },
    {
      "metadata": {
        "_uuid": "7113b673c2e46a26798f99252633aa7ab35b0c0b"
      },
      "cell_type": "markdown",
      "source": "### Outlier Removal"
    },
    {
      "metadata": {
        "_uuid": "af0268b5a7dd32aa9c6ba96c3114329ac197e738"
      },
      "cell_type": "markdown",
      "source": "Let us first look at outliers in the numerical variables with the highest correlation to 'SalePrice'. Those are the ones that should make the most difference to 'SalePrice' predictions. "
    },
    {
      "metadata": {
        "trusted": true,
        "_uuid": "126d8f558fa1b70cb92803356c5b1a54684994f2"
      },
      "cell_type": "code",
      "source": "# first variable : GrLivArea\nplt.subplots(figsize=(15, 5))\n\nplt.subplot(1, 2, 1)\ng = sns.regplot(x=train_df['GrLivArea'], y=train_df['SalePrice'], fit_reg=False).set_title(\"Before\")\n\n# Delete outliers\nplt.subplot(1, 2, 2)                                                                                \ntrain_df = train_df.drop(train_df[(train_df['GrLivArea']>4000) & (train_df['SalePrice']<300000)].index)\ng = sns.regplot(x=train_df['GrLivArea'], y=train_df['SalePrice'], fit_reg=False).set_title(\"After\")",
      "execution_count": null,
      "outputs": []
    },
    {
      "metadata": {
        "trusted": true,
        "_uuid": "e2c5b79921b46b4c5905f62bddb703b17068de4e"
      },
      "cell_type": "code",
      "source": "# Next Up: TotalBsmtSF\nplt.subplots(figsize=(15, 5))\n\nplt.subplot(1, 2, 1)\ng = sns.regplot(x=train_df['TotalBsmtSF'], y=train_df['SalePrice'], fit_reg=False).set_title(\"Before\")\n\n# Delete outliers\nplt.subplot(1, 2, 2)                                                                                \ntrain_df = train_df.drop(train_df[(train_df['TotalBsmtSF']>3000)].index)\ng = sns.regplot(x=train_df['TotalBsmtSF'], y=train_df['SalePrice'], fit_reg=False).set_title(\"After\")",
      "execution_count": null,
      "outputs": []
    },
    {
      "metadata": {
        "trusted": true,
        "_uuid": "482c4d91675ae7e85149f26177d799081e8f28da"
      },
      "cell_type": "code",
      "source": "# Next Up : OverallQual\nplt.subplots(figsize=(15, 5))\n\nplt.subplot(1, 2, 1)\ng = sns.regplot(x=train_df['OverallQual'], y=train_df['SalePrice'], fit_reg=False).set_title(\"Before\")\n\n# Delete outliers\nplt.subplot(1, 2, 2)                                                                                \ntrain_df = train_df.drop(train_df[(train_df['OverallQual']>9) & (train_df['SalePrice']>700000)].index)\ng = sns.regplot(x=train_df['OverallQual'], y=train_df['SalePrice'], fit_reg=False).set_title(\"After\")",
      "execution_count": null,
      "outputs": []
    },
    {
      "metadata": {
        "trusted": true,
        "_uuid": "0f731e636eec81091fa2550d5532e9a2818aadf1"
      },
      "cell_type": "code",
      "source": "train_df.shape # 1453,81\n# 7 rows deleted",
      "execution_count": null,
      "outputs": []
    },
    {
      "metadata": {
        "trusted": true,
        "_uuid": "35737ee30285b42f1c3c18e734615230fd1f9690"
      },
      "cell_type": "code",
      "source": "#check if there are columns that are present in train and not in test\n# if there are any, we will have to drop them from train\nextra_train_cols = set( train_df.columns ) - set( test_df.columns )\nextra_train_cols # no columns that are present in train and not in test",
      "execution_count": null,
      "outputs": []
    },
    {
      "metadata": {
        "_uuid": "a39a3dbd54b8187834adb5d0c808b17957e78abb"
      },
      "cell_type": "markdown",
      "source": "### Investigation of Target Variable"
    },
    {
      "metadata": {
        "_uuid": "c28a4a370d9ed01f9b4c0761b0f62dabd74e07df"
      },
      "cell_type": "markdown",
      "source": "#### What are we doing?\nWe are investigating the nature of the target or response variable here; i.e. 'SalePrice'. On the basis of our findings here, we can transform the variable.\n\n#### Why are we doing this?\nThis is to ensure the model predictions behave better. What this means is, in regression it is necessary that the residuals follow a normal distribution. Now, if the predicted values are normally distributed then the residuals are as well and vice versa. For a detailed explaination refer to this [link here](https://stats.stackexchange.com/questions/60410/normality-of-dependent-variable-normality-of-residuals)."
    },
    {
      "metadata": {
        "trusted": true,
        "_uuid": "135527020b6394567a5b021115e1558095c0a232"
      },
      "cell_type": "code",
      "source": "# basic states of 'SalePrice'\ntrain_df['SalePrice'].describe()\n# here we see min= 34900 and max= 625000\n# to get a better understanding, we will plot a distribution curve",
      "execution_count": null,
      "outputs": []
    },
    {
      "metadata": {
        "trusted": true,
        "_uuid": "275d9f74f03d1cb03610a352f44b967a29705c18"
      },
      "cell_type": "code",
      "source": "#distribution plot- histogram\nsns.distplot(train_df['SalePrice']).set_title(\"Distribution of SalePrice\")\n\n# probability plot\nfig = plt.figure()\nres = stats.probplot(train_df['SalePrice'], plot=plt)",
      "execution_count": null,
      "outputs": []
    },
    {
      "metadata": {
        "_uuid": "3afe5698ee33d5c604e90841db299e8d1000fae7"
      },
      "cell_type": "markdown",
      "source": "We see a positive skewness. This is not exactly a normal distribution. Also, the balues do not follow the linear trend here.  \nNow, if we observe a positive or a right skewness, log transformation is a good option\n\n#### Why log?\nThe non-linear trend shows 'SalePrice' has some sort of exponential relationship with the independent variables. Applying a log function on these values should give a linear trend and convert the set of values into 'normally distributed' values.\n\nFurthermore,  for this problem, \"submissions are evaluated on **Root-Mean-Squared-Error (RMSE) between the logarithm of the predicted value and the logarithm of the observed sales price**. (Taking logs means that errors in predicting expensive houses and cheap houses will affect the result equally.)\"\n\nAll this would just make sense if we replace the values in 'SalePrice' column by the corresponding log values"
    },
    {
      "metadata": {
        "trusted": true,
        "_uuid": "b78ace41a8c228746b92a290b9059158d16a7fbb"
      },
      "cell_type": "code",
      "source": "#We use the numpy fuction log1p which  applies log(1+x) to all elements of the column\ntrain_df[\"SalePrice\"] = np.log1p(train_df[\"SalePrice\"])\n\n#Check the new distribution \nsns.distplot(train_df['SalePrice'] , fit=norm);\n\n# Get the fitted parameters used by the function\n(mu, sigma) = norm.fit(train_df['SalePrice'])\nprint( '\\n mean = {:.2f} and std dev = {:.2f}\\n'.format(mu, sigma))\n\n#Now plot the distribution\nplt.legend(['Normal dist. ($\\mu=$ {:.2f} and $\\sigma=$ {:.2f} )'.format(mu, sigma)],\n            loc='best')\nplt.ylabel('Frequency')\nplt.title('Distribution of Log SalePrices')\n\n#Get also the QQ-plot\nfig = plt.figure()\nres = stats.probplot(train_df['SalePrice'], plot=plt)\nplt.show()",
      "execution_count": null,
      "outputs": []
    },
    {
      "metadata": {
        "trusted": true,
        "_uuid": "8d5bd63544458635135c81fb5f263c113620b8f9"
      },
      "cell_type": "code",
      "source": "# let us also store the target variable\ny_train = train_df.SalePrice.values\ntrain_df.head()",
      "execution_count": null,
      "outputs": []
    },
    {
      "metadata": {
        "_uuid": "3a3167e467759470a111bc35c1bd31649064900c"
      },
      "cell_type": "markdown",
      "source": "### Concatenating train and test to create total_df (aggregated dataset)"
    },
    {
      "metadata": {
        "trusted": true,
        "_uuid": "d6b47321b229c266c258164ef8ff37ca4e9c1420"
      },
      "cell_type": "code",
      "source": "# store the unique ids of training dataset\ntrain_ids = train_df.index    \n# store the unique ids of test dataset\ntest_ids = test_df.index\n\n# combine train and test datas in to one dataframe\ntotal_df = pd.concat([train_df,test_df]).reset_index(drop=True)\n#total_df.drop(['SalePrice'], axis=1, inplace=True)\nprint(\"Shape of total_df : {}\".format(total_df.shape))\ntotal_df.isnull().sum()",
      "execution_count": null,
      "outputs": []
    },
    {
      "metadata": {
        "_uuid": "af29b33aabd335b41256899e338691a831542496"
      },
      "cell_type": "markdown",
      "source": "Creating a list of features to be removed \n"
    },
    {
      "metadata": {
        "trusted": true,
        "_uuid": "14c7426b17f64eea31610cdf55f034a221668512"
      },
      "cell_type": "code",
      "source": "feature_drop1= ['GarageYrBlt','TotRmsAbvGrd'] # will remove 1stFlrSF and GarageArea later-- after creating additional features",
      "execution_count": null,
      "outputs": []
    },
    {
      "metadata": {
        "trusted": true,
        "_uuid": "30b61fdd8a1b882e373ecc969e9d2eb5c302f2d3"
      },
      "cell_type": "code",
      "source": "#removing features-- with multicollinearity or low correlation with target variable\ntotal_df.drop(feature_drop1,\n              axis=1, inplace=True)\ntotal_df.head()",
      "execution_count": null,
      "outputs": []
    },
    {
      "metadata": {
        "_uuid": "468efe26636ac1034312dec951d3d6ba7c345500"
      },
      "cell_type": "markdown",
      "source": "### Missing Value Treatment"
    },
    {
      "metadata": {
        "trusted": true,
        "_uuid": "5d7eab00f69507efc7c2f47c946dca3c51e40ca7"
      },
      "cell_type": "code",
      "source": "#Checking for missing data\nNAs = pd.concat([train_df.isnull().sum(), test_df.isnull().sum()], axis=1, keys=['Train', 'Test'])\nNAs[NAs.sum(axis=1) > 0]",
      "execution_count": null,
      "outputs": []
    },
    {
      "metadata": {
        "trusted": true,
        "_uuid": "97ab4792ca172c5d2c0ac959985871a2f97d8264"
      },
      "cell_type": "code",
      "source": "# find missing values as percentage of data length\ntotal_na = (total_df.isnull().sum() / len(total_df)) * 100\ntotal_na = total_na.drop(total_na[total_na == 0].index).sort_values(ascending=False)[:30]\nmissing_data_perc = pd.DataFrame({'Missing Ratio' :total_na})\nmissing_data_perc",
      "execution_count": null,
      "outputs": []
    },
    {
      "metadata": {
        "trusted": true,
        "_uuid": "3bfed9a59d93f43f27b30bb857967cf1e2867e4a"
      },
      "cell_type": "code",
      "source": "# columns with attributes like Pool, Fence etc. marked as NaN indicate the absence of these features.\nattributes_with_na = ['PoolQC','MiscFeature','Alley','Fence','MasVnrType','FireplaceQu',\n               'GarageQual','GarageCond','GarageFinish','GarageType',\n               'BsmtExposure','BsmtCond','BsmtQual','BsmtFinType1','BsmtFinType2']\n\n# replace 'NaN' with 'None' in these columns\nfor col in attributes_with_na:\n    total_df[col].fillna('None',inplace=True)\n    \n#NAs in basement related columns will indicate no masonry veneer. Thus replacing MasVnr Area with 0\ntotal_df.MasVnrArea.fillna(0,inplace=True)\n\n#NAs in basement related columns will indicate no basement. Thus replacing all areas and count column with 0 \ntotal_df.BsmtFullBath.fillna(0,inplace=True)\ntotal_df.BsmtHalfBath.fillna(0,inplace=True)\ntotal_df.BsmtFinSF1.fillna(0,inplace=True)\ntotal_df.BsmtFinSF2.fillna(0,inplace=True)\ntotal_df.BsmtUnfSF.fillna(0,inplace=True)\ntotal_df.TotalBsmtSF.fillna(0,inplace=True)\n\n#Similarly for Garage Cars-- fill with 0; cause if no garage, no cars can parked in it\ntotal_df.GarageCars.fillna(0,inplace=True)   \n# doing the same for GarageArea\ntotal_df.GarageArea.fillna(0,inplace=True)   ",
      "execution_count": null,
      "outputs": []
    },
    {
      "metadata": {
        "trusted": true,
        "_uuid": "262db21fcdfaf45de9c87f2d6f438a17a8f29f72"
      },
      "cell_type": "code",
      "source": "total_df.isnull().sum()",
      "execution_count": null,
      "outputs": []
    },
    {
      "metadata": {
        "trusted": true,
        "_uuid": "fe35a25a22f96f9631cbf7e1c62eb58497684823"
      },
      "cell_type": "code",
      "source": "# Let us look at perc of nulls again\n# find missing values as percentage of data length\ntotal_na_rev = (total_df.isnull().sum() / len(total_df)) * 100\ntotal_na_rev = total_na_rev.drop(total_na_rev[total_na_rev == 0].index).sort_values(ascending=False)[:30]\nmissing_data_perc_rev = pd.DataFrame({'Missing Ratio' :total_na_rev})\nmissing_data_perc_rev",
      "execution_count": null,
      "outputs": []
    },
    {
      "metadata": {
        "trusted": true,
        "_uuid": "4f40dd10b38ebf2985825b5a05fe98a46d5a41cc"
      },
      "cell_type": "code",
      "source": "# Let us first focus on the lesser null percentages (except LoTFrontage)\n# Let us see the distribution of data across these fields\n\n# first up: Utilities\ntotal_df.groupby(['Utilities']).size() # only one NoSeWa value and 2 nulls \ntrain_df.groupby(['Utilities']).size() # train data contains the 'NoSeWa'i.e. Test has no NoSeWa value\n# 2 null values come from Test data\n## intuitively this will not play a significant role in our model prediction\n# for now let us populate the nulls with the most frequent value 'AllPub'-- can drop it later\ntotal_df['Utilities'] = total_df['Utilities'].fillna(total_df['Utilities'].mode()[0]) ",
      "execution_count": null,
      "outputs": []
    },
    {
      "metadata": {
        "trusted": true,
        "_uuid": "2b03877bdac4d54fcdde02057733c1daee6124e3"
      },
      "cell_type": "code",
      "source": "# next is: Functional\n# Similarly for Functional\n#Functional : by the definition of the column, 'NA' means typical\ntotal_df.groupby(['Functional']).size() # typ has 2717 as of now\n# Since 'typ' is also the most frequent value, let us replace 'NA' with 'typ'\ntotal_df[\"Functional\"] = total_df[\"Functional\"].fillna(\"Typ\")\ntotal_df.groupby(['Functional']).size() # typ= 2719 now",
      "execution_count": null,
      "outputs": []
    },
    {
      "metadata": {
        "trusted": true,
        "_uuid": "3a63e8dc5a96cd28fe3f1245409dcd6e6dbd5be2"
      },
      "cell_type": "code",
      "source": "# Let us now look at: Electrical\ntotal_df.groupby(['Electrical']).size() # this has one missing value in Train i.e. SBrKr (currently 2671)\n# Let us just populate the NA with the most frequent entry\ntotal_df['Electrical'] = total_df['Electrical'].fillna(total_df['Electrical'].mode()[0])\ntotal_df.groupby(['Electrical']).size() # now SBrKr= 2672",
      "execution_count": null,
      "outputs": []
    },
    {
      "metadata": {
        "trusted": true,
        "_uuid": "0116b5be45ca1b899af5f93c71f361de6a117eb0"
      },
      "cell_type": "code",
      "source": "# Like Electrical, KitchenQual has 1 missing value\ntotal_df.groupby(['KitchenQual']).size() # the missing value is in Test; most frequent value is 'TA'= 1492\n# Let us just replace null with 'TA'\ntotal_df['KitchenQual'] = total_df['KitchenQual'].fillna(total_df['KitchenQual'].mode()[0])\ntotal_df.groupby(['KitchenQual']).size() # 'TA'= 1493",
      "execution_count": null,
      "outputs": []
    },
    {
      "metadata": {
        "trusted": true,
        "_uuid": "7e6866ab42aeffdcbc5f452fde6ed4cbad0585eb"
      },
      "cell_type": "code",
      "source": "# The next column is SaleType\ntotal_df.groupby(['SaleType']).size() # one NA in Test, most frequent value is 'WD'=2525\n#populating nulls with the most frequent values\ntotal_df['SaleType'] = total_df['SaleType'].fillna(total_df['SaleType'].mode()[0])\ntotal_df.groupby(['SaleType']).size() # 'WD'= 2526",
      "execution_count": null,
      "outputs": []
    },
    {
      "metadata": {
        "trusted": true,
        "_uuid": "b407c4d55ad0ab8cd390c4cf9fedbf940d1c9668"
      },
      "cell_type": "code",
      "source": "# Doing the same thing for Exterior1st and 2nd\ntotal_df['Exterior1st'] = total_df['Exterior1st'].fillna(total_df['Exterior1st'].mode()[0])\ntotal_df['Exterior2nd'] = total_df['Exterior2nd'].fillna(total_df['Exterior2nd'].mode()[0])",
      "execution_count": null,
      "outputs": []
    },
    {
      "metadata": {
        "trusted": true,
        "_uuid": "d79284f4762f67e1f9cb3898e42c0e2b8fda6d32"
      },
      "cell_type": "code",
      "source": "# Moving on to the higher null percentages: MSZoninng\ntotal_df.groupby(['MSZoning']).size() #most frequent value is 'RL'=2265\n# Let us just substitute the 4 nulls with the most frequent values\ntotal_df['MSZoning'] = total_df['MSZoning'].fillna(total_df['MSZoning'].mode()[0])\ntotal_df.groupby(['MSZoning']).size() ",
      "execution_count": null,
      "outputs": []
    },
    {
      "metadata": {
        "trusted": true,
        "_uuid": "1e215b3efa3e7b4e5a374063d5678726623c879f"
      },
      "cell_type": "code",
      "source": "#Checking for missing data once again\nNAs_again = pd.concat([total_df.isnull().sum()], axis=1)\nNAs_again[NAs_again.sum(axis=1) > 0] # just one column LotFrontage-- has 486 missing values ",
      "execution_count": null,
      "outputs": []
    },
    {
      "metadata": {
        "trusted": true,
        "_uuid": "b26019e26e808d301546fa87a55cbaa7a3b78cb8"
      },
      "cell_type": "code",
      "source": "# function to scale a column\ndef norm_minmax(col):\n    return (col-col.min())/(col.max()-col.min())",
      "execution_count": null,
      "outputs": []
    },
    {
      "metadata": {
        "trusted": true,
        "_uuid": "22acee21748f630ee5cc702505d533cfa5b5cffd"
      },
      "cell_type": "code",
      "source": "# By business definition, LotFrontage is the area of each street connected to the house property\n# Intuitively it should be highly correlated to variables like LotArea\n# It should also depend on LotShape, LotConfig\n# Let us make a simple Linear regressor to get the most accurate values\n\n# convert categoricals to dummies\n#also dropping the target 'SalePrice' for now as the target currently is 'LotFrontage'\ntotal_df_dummy = pd.get_dummies(total_df.drop('SalePrice',axis=1))\n# scaling all numerical columns\nfor col in total_df_dummy.drop('LotFrontage',axis=1).columns:\n    total_df_dummy[col] = norm_minmax(total_df_dummy[col])\n\nfrontage_train = total_df_dummy.dropna()\nfrontage_train_y = frontage_train.LotFrontage\nfrontage_train_X = frontage_train.drop('LotFrontage',axis=1)  \n\n# fit model\nlin_reg= linear_model.LinearRegression()\nlin_reg.fit(frontage_train_X, frontage_train_y)\n\n# check model results\nlr_coefs = pd.Series(lin_reg.coef_,index=frontage_train_X.columns)\nprint(lr_coefs.sort_values(ascending=False))",
      "execution_count": null,
      "outputs": []
    },
    {
      "metadata": {
        "trusted": true,
        "_uuid": "202df60474157c1393566b0a265d0117615fc761"
      },
      "cell_type": "code",
      "source": "# use model predictions to populate nulls\nnulls_in_lotfrontage = total_df.LotFrontage.isnull()\nfeatures = total_df_dummy[nulls_in_lotfrontage].drop('LotFrontage',axis=1)\ntarget = lin_reg.predict(features)\n\n# fill nan values\ntotal_df.loc[nulls_in_lotfrontage,'LotFrontage'] = target",
      "execution_count": null,
      "outputs": []
    },
    {
      "metadata": {
        "trusted": true,
        "scrolled": true,
        "_uuid": "fb43608e67f3335a8cca7f035bb4bcca0dea2491"
      },
      "cell_type": "code",
      "source": "#Checking for missing data once again\nNAs_again = pd.concat([total_df.isnull().sum()], axis=1)\nNAs_again[NAs_again.sum(axis=1) > 0] # just one column LotFrontage-- has 486 missing values ",
      "execution_count": null,
      "outputs": []
    },
    {
      "metadata": {
        "trusted": true,
        "_uuid": "2f4ce371b627dff79dbb3eea5400ef4dbdcce317"
      },
      "cell_type": "code",
      "source": "train_subset=total_df[total_df['SalePrice'].notnull()]\nntrain= train_subset.shape[0]",
      "execution_count": null,
      "outputs": []
    },
    {
      "metadata": {
        "_uuid": "268465090a71ae2b552bc611c8d2c59c76accd91"
      },
      "cell_type": "markdown",
      "source": "### Feature Engineering or Feature Manipulation"
    },
    {
      "metadata": {
        "_uuid": "b8730d47fef454020e2b6f6d716164d960930522"
      },
      "cell_type": "markdown",
      "source": "**OverallQual**"
    },
    {
      "metadata": {
        "trusted": true,
        "_uuid": "46840a69e76eab5864d1dda94b8fe23e9476cc91"
      },
      "cell_type": "code",
      "source": "# Let us start with the variables having highest correlation with the target variable\n# looking at OverallQual, GrLivArea, GarageCars and TotalBsmtSF\n\n# Since it is one of the highest correlated variables with the response, we can create a quadratic variable that might be a part of the regression equation\ntotal_df[\"OverallQual_2\"] = total_df[\"OverallQual\"].astype(int) ** 2\n#also creating cubic\ntotal_df[\"OverallQual_3\"] = total_df[\"OverallQual\"].astype(int) ** 3\n# another sqrt transformation\ntotal_df[\"OverallQual_sqrt\"] = np.sqrt(total_df[\"OverallQual\"].astype(int))\n\n# OverallQual is just a categorical variable in guise of integers\n# Changing OverallQual into a categorical variable\ntotal_df['OverallQual'] = total_df['OverallQual'].astype(str)",
      "execution_count": null,
      "outputs": []
    },
    {
      "metadata": {
        "trusted": true,
        "_uuid": "4c69ffe89e78e5d99dad7c323975433a63d9ba39"
      },
      "cell_type": "code",
      "source": " # next variable: GrLivArea\n # creating the polynomial variables from here as well\ntotal_df[\"GrLivArea_2\"] = total_df[\"GrLivArea\"] ** 2\n#also creating cubic\ntotal_df[\"GrLivArea_3\"] = total_df[\"GrLivArea\"] ** 3\n# another sqrt transformation\ntotal_df[\"GrLivArea_sqrt\"] = np.sqrt(total_df[\"GrLivArea\"])",
      "execution_count": null,
      "outputs": []
    },
    {
      "metadata": {
        "_uuid": "4a9b7df1455944276f532f0f0e3ea342f501b031"
      },
      "cell_type": "markdown",
      "source": "**GrLivArea**"
    },
    {
      "metadata": {
        "trusted": true,
        "_uuid": "89f03c6f917842c6fd5d8a02f0aa1e53a51f9ee5"
      },
      "cell_type": "code",
      "source": "# let us check the distribution of GrLivArea \n#distribution and probability plots\n#distribution plot- histogram\nsns.distplot(total_df['GrLivArea']).set_title(\"Distribution of GrLivArea\")\n\n# probability plot\nfig = plt.figure()\nres = stats.probplot(total_df['GrLivArea'], plot=plt)",
      "execution_count": null,
      "outputs": []
    },
    {
      "metadata": {
        "_uuid": "c0cb354430c02b3f8d2c3b0f327a2329294f487a"
      },
      "cell_type": "markdown",
      "source": "We see a similar positive skewness in this variable. Let us create a log-transformed variable from GrLivArea"
    },
    {
      "metadata": {
        "trusted": true,
        "_uuid": "0097612d92e2728ad1a07bc365dae2f91d6e7e6f"
      },
      "cell_type": "code",
      "source": "# log transformed\ntotal_df['GrLivArea_log'] = np.log1p(total_df['GrLivArea'])",
      "execution_count": null,
      "outputs": []
    },
    {
      "metadata": {
        "trusted": true,
        "_uuid": "5a2a1a19faf87c4a7afba0f6d571db5c5228239f"
      },
      "cell_type": "code",
      "source": "# we can also create buckets on GrLivArea\ntotal_df['GrLivArea_Band'] = pd.cut(total_df['GrLivArea'], 6,labels=[\"1\", \"2\", \"3\",\"4\",\"5\",\"6\"])\nprint(total_df['GrLivArea_Band'].unique())\n\n# since these are essential categorical variables,\n# let us convert them to string\ntotal_df['GrLivArea_Band'] = total_df['GrLivArea_Band'].astype(str)",
      "execution_count": null,
      "outputs": []
    },
    {
      "metadata": {
        "trusted": true,
        "_uuid": "add3b8564de3ef422244d6e5e67810927b3ec46e"
      },
      "cell_type": "code",
      "source": "total_df.head()",
      "execution_count": null,
      "outputs": []
    },
    {
      "metadata": {
        "_uuid": "c9c5ad3fc484aea4c61b1fecf11ab9eb44d80ace"
      },
      "cell_type": "markdown",
      "source": "**TotalBsmtSF**"
    },
    {
      "metadata": {
        "trusted": true,
        "_uuid": "97e740a16adb3f5c705d7ee1c06e7079be2cb4bd"
      },
      "cell_type": "code",
      "source": "# creating polynomial features from TotalBsmtSF\ntotal_df[\"TotalBsmtSF_2\"] = total_df[\"TotalBsmtSF\"] ** 2\n#also creating cubic\ntotal_df[\"TotalBsmtSF_3\"] = total_df[\"TotalBsmtSF\"] ** 3\n# another sqrt transformation\ntotal_df[\"TotalBsmtSF_sqrt\"] = np.sqrt(total_df[\"TotalBsmtSF\"])\n\n# log transformed variable\ntotal_df['TotalBsmtSF_log'] = np.log1p(total_df['TotalBsmtSF'])",
      "execution_count": null,
      "outputs": []
    },
    {
      "metadata": {
        "trusted": true,
        "_uuid": "193886a28d2f92bd742b559263b2ad780944198a"
      },
      "cell_type": "code",
      "source": "# also creating a 1-0 flag called 'HasBsmt' using 'TotalBsmtSF'\n#if area>0 it is 'Y', else 'N'\ntotal_df['HasBsmt'] = np.where(total_df['TotalBsmtSF']>0, 'Y', 'N')",
      "execution_count": null,
      "outputs": []
    },
    {
      "metadata": {
        "trusted": true,
        "_uuid": "a326136068d60f95d2b7c24689a6b077bf70992d"
      },
      "cell_type": "code",
      "source": "# we can also create buckets on GrLivArea\ntotal_df['TotalBsmtSF_Band'] = pd.cut(total_df['TotalBsmtSF'], 3,labels=[\"1\", \"2\", \"3\"])\nprint(total_df['TotalBsmtSF_Band'].unique())\n\n# since these are essential categorical variables,\n# let us convert them to string\ntotal_df['TotalBsmtSF_Band'] = total_df['TotalBsmtSF_Band'].astype(str)",
      "execution_count": null,
      "outputs": []
    },
    {
      "metadata": {
        "_uuid": "ca9e23a8b41538acb68080ba22c08782ddeaf87b"
      },
      "cell_type": "markdown",
      "source": "**GarageCars**"
    },
    {
      "metadata": {
        "trusted": true,
        "_uuid": "a68c4672ad4a2fad4acdeaeac1989cc481564611"
      },
      "cell_type": "code",
      "source": "# creating polynomial features from GarageCars\ntotal_df[\"GarageCars_2\"] = total_df[\"GarageCars\"] ** 2\n#also creating cubic\ntotal_df[\"GarageCars_3\"] = total_df[\"GarageCars\"] ** 3\n# another sqrt transformation\ntotal_df[\"GarageCars_sqrt\"] = np.sqrt(total_df[\"GarageCars\"])\n\n# log transformed variable\ntotal_df['GarageCars_log'] = np.log1p(total_df['GarageCars'])",
      "execution_count": null,
      "outputs": []
    },
    {
      "metadata": {
        "_uuid": "78934675fb3e81256abd20a23025ebe2ad6d7fa4"
      },
      "cell_type": "markdown",
      "source": "Let us now start creating some features from multiple base variables."
    },
    {
      "metadata": {
        "trusted": true,
        "_uuid": "9d10d0ee5eb547e9a17f8ca945944283d63044f8"
      },
      "cell_type": "code",
      "source": "# OverallCond is again just a rating- categorical variable. let us first convert the datatype\ntotal_df['OverallCond'] = total_df['OverallCond'].astype(str)\n# use OverallQual and OverallCond to get a total home quality-- averaging both\ntotal_df['TotalHomeQual'] = (total_df['OverallCond'].astype(int) + total_df['OverallQual'].astype(int))/2\ntotal_df['TotalHomeQual'] = total_df['TotalHomeQual'].astype(str) # converted to string\ntotal_df[:5]",
      "execution_count": null,
      "outputs": []
    },
    {
      "metadata": {
        "trusted": true,
        "_uuid": "fc877ab0b78a3c9f2877c611a5e565a7ec02ccde"
      },
      "cell_type": "code",
      "source": "# Adding all floors SF\ntotal_df['AllFlrs_SF'] = total_df['TotalBsmtSF'] + total_df['1stFlrSF'] + total_df['2ndFlrSF']\n\n# creating features with finish type fraction of basement SF\n# create separate columns for area of each possible\n# basement finish type\nbsmt_fin_cols = ['BsmtGLQ','BsmtALQ','BsmtBLQ',\n                 'BsmtRec','BsmtLwQ']\n\nfor col in bsmt_fin_cols:\n    # initialise as columns of zeros\n    total_df[col+'SF'] = 0\n\n# fill remaining finish type columns\nfor row in total_df.index:\n    fin1 = total_df.loc[row,'BsmtFinType1']\n    if (fin1!='None') and (fin1!='Unf'):\n        # add area (SF) to appropriate column\n        total_df.loc[row,'Bsmt'+fin1+'SF'] += total_df.loc[row,'BsmtFinSF1']\n        \n    fin2 = total_df.loc[row,'BsmtFinType2']\n    if (fin2!='None') and (fin2!='Unf'):\n        total_df.loc[row,'Bsmt'+fin2+'SF'] += total_df.loc[row,'BsmtFinSF2']\n\n\n# remove initial BsmtFin columns\ntotal_df.drop(['BsmtFinType1','BsmtFinSF1','BsmtFinType2','BsmtFinSF2'], axis=1, inplace=True)\n\n# already have BsmtUnf column in dataset\nbsmt_fin_cols.append('BsmtUnf')\n\n# also create features representing the fraction of the basement that is each finish type\nfor col in bsmt_fin_cols:\n    total_df[col+'Frac'] = total_df[col+'SF']/total_df['TotalBsmtSF']\n    # replace any nans with zero (for properties without a basement)\n    total_df[col+'Frac'].fillna(0,inplace=True)",
      "execution_count": null,
      "outputs": []
    },
    {
      "metadata": {
        "trusted": true,
        "_uuid": "bcdbe545d2f7baa132ac4c45857cf91cf203fb3d"
      },
      "cell_type": "code",
      "source": "#creating a feature on LivingAreaSF\ntotal_df['LivingAreaSF'] = total_df['1stFlrSF'] + total_df['2ndFlrSF'] + total_df['BsmtGLQSF'] + total_df['BsmtALQSF'] + total_df['BsmtBLQSF']",
      "execution_count": null,
      "outputs": []
    },
    {
      "metadata": {
        "trusted": true,
        "_uuid": "07f4b62cba816ca606fc1c53c891001952bfa202"
      },
      "cell_type": "code",
      "source": "# removing all individual SF variables used to create the above features\nSF_feature_drop= ['1stFlrSF','2ndFlrSF','BsmtGLQSF','BsmtALQSF','BsmtBLQSF','GarageArea']\n#removing features\ntotal_df.drop(SF_feature_drop,\n              axis=1, inplace=True)\ntotal_df.head()\n\ntotal_df[:5]",
      "execution_count": null,
      "outputs": []
    },
    {
      "metadata": {
        "trusted": true,
        "_uuid": "5cdeaf69fadf937e67264a325960e115b3f1af73"
      },
      "cell_type": "code",
      "source": "# timeline related variables\n# age at time of selling\ntotal_df['age_at_selling_point']= total_df['YrSold']-total_df['YearBuilt']\n\n# time since last remodel\ntotal_df['time_since_remodel']= total_df['YrSold']-total_df['YearRemodAdd']\n\n# create a flag feature whether the house was remodelled\ntotal_df['remodelled_after']= total_df['YearRemodAdd']-total_df['YearBuilt']\ntotal_df['HasBeenRemodelled'] = np.where(total_df['remodelled_after']>0, 'Y', 'N')\n\n# create feature on decade of selling\ntotal_df['DecadeSold']= (total_df['YrSold']//10)*10\n# convert this to char\ntotal_df['DecadeSold'] = total_df['DecadeSold'].astype(str)\n\n# create feature on decade of building\ntotal_df['DecadeBuilt']= (total_df['YearBuilt']//10)*10\n# convert this to char\ntotal_df['DecadeBuilt'] = total_df['DecadeBuilt'].astype(str)",
      "execution_count": null,
      "outputs": []
    },
    {
      "metadata": {
        "trusted": true,
        "_uuid": "a73a9dff0368d9d4be852ba01a7bb62fcc6be698"
      },
      "cell_type": "code",
      "source": "# drop the time fields used to create above features\n# removing all individual SF variables used to create the above features\ntime_feature_drop= ['YrSold','YearRemodAdd','remodelled_after','YearBuilt']\n#removing features\ntotal_df.drop(time_feature_drop,\n              axis=1, inplace=True)\ntotal_df.head()\n",
      "execution_count": null,
      "outputs": []
    },
    {
      "metadata": {
        "trusted": true,
        "_uuid": "9c3d05cc768342f32e47325a639a2a4749b3aef6"
      },
      "cell_type": "code",
      "source": "#MSSubClass is a categorical variable. Let us change the data type\ntotal_df['MSSubClass'] = total_df['MSSubClass'].astype(str)",
      "execution_count": null,
      "outputs": []
    },
    {
      "metadata": {
        "trusted": true,
        "_uuid": "d43e29491a1e59c4611915666e760d98f4ad29f6"
      },
      "cell_type": "code",
      "source": "list(total_df)",
      "execution_count": null,
      "outputs": []
    },
    {
      "metadata": {
        "trusted": true,
        "_uuid": "38028c88b33b7d2fbae980f12d4e83f20ae87aa6"
      },
      "cell_type": "code",
      "source": "#Month sold are transformed into categorical features.\ntotal_df['MoSold'] = total_df['MoSold'].astype(str)\n\n# doing similar exercise for several other columns\nqual_cols= ['HeatingQC','KitchenQual','FireplaceQu','GarageQual','PoolQC','ExterQual','BsmtQual','Fence','BsmtCond','GarageCond','ExterCond','GarageCond']\n\nfor c in qual_cols:\n    total_df[c] = total_df[c].astype(str)",
      "execution_count": null,
      "outputs": []
    },
    {
      "metadata": {
        "trusted": true,
        "_uuid": "18bc745ea878b2c8021cf85589e757b60b214b86"
      },
      "cell_type": "code",
      "source": "total_df.info()\n#checking all non-numerical columns\nfor c in total_df.columns:\n    col_type = total_df[c].dtype\n    if col_type != 'int64' and col_type != 'float64':\n        print(c)",
      "execution_count": null,
      "outputs": []
    },
    {
      "metadata": {
        "_uuid": "19d01023a2b770fc92eda97ad7e78168d2459955"
      },
      "cell_type": "markdown",
      "source": "#### treating all object variables"
    },
    {
      "metadata": {
        "_uuid": "8ebd9ce5aefa88a8b9f78c6c8795c43e9721b9cd"
      },
      "cell_type": "markdown",
      "source": "Of the above variables, a few are ordinal, others are categorical\nWe need to LabelEncode the ordinal features and One-hot encode the categorical features"
    },
    {
      "metadata": {
        "trusted": true,
        "_uuid": "611e95dc3eddd355b441e0183377697d099a9fd4"
      },
      "cell_type": "code",
      "source": "# create a list of ordinal variables\nordinal_variables=['HeatingQC','KitchenQual','FireplaceQu','GarageQual','PoolQC','ExterQual','BsmtQual','Fence','BsmtCond','GarageCond','ExterCond','GarageCond','OverallCond','OverallQual','TotalHomeQual']\n# label encoder\nle = preprocessing.LabelEncoder()\n\nfor c in ordinal_variables:\n    le.fit(total_df[c])\n    total_df[c] = le.transform(total_df[c])",
      "execution_count": null,
      "outputs": []
    },
    {
      "metadata": {
        "trusted": true,
        "_uuid": "7725c7d1d1a345906ead5e2753bae0f5059141a2"
      },
      "cell_type": "code",
      "source": "# create a list of categorical columns for one hot encoding\ncat_variables= ['MSSubClass','MSZoning','Street','Alley','LotShape','LotConfig','LandContour','BsmtExposure','BldgType','CentralAir','Condition1','Condition2','Electrical','Exterior1st','Exterior2nd','Foundation','Functional','GarageFinish','GarageType','Heating','HouseStyle','LandSlope','SaleCondition','Utilities','RoofStyle','HasBsmt','RoofMatl','MasVnrType','HasBeenRemodelled','DecadeBuilt','DecadeSold','MoSold','Neighborhood','PavedDrive','MiscFeature','GrLivArea_Band','TotalBsmtSF_Band','SaleType']\n\n# One-Hot encoding to convert categorical columns to numeric\nprint('start one-hot encoding')\n\ntotal_df = pd.get_dummies(total_df, prefix = cat_variables,\n                         columns = cat_variables)\n\nprint('one-hot encoding done')\n\n# dropping SalePrice\ntotal_df.drop(['SalePrice'], axis=1, inplace=True)\n\n# normalize the variables to values from 0 to 1\nnormalized_total_df = preprocessing.normalize(total_df)",
      "execution_count": null,
      "outputs": []
    },
    {
      "metadata": {
        "trusted": true,
        "_uuid": "ff09b62e96fcbd6012aefda31c3039eca59360c8"
      },
      "cell_type": "code",
      "source": "print(total_df.shape)\ntotal_df.info()",
      "execution_count": null,
      "outputs": []
    },
    {
      "metadata": {
        "_uuid": "91bb4468bc369dc5397fccaabdc0d93dda380d0b"
      },
      "cell_type": "markdown",
      "source": "### Modelling"
    },
    {
      "metadata": {
        "trusted": true,
        "_uuid": "ed693f2f7f12f7fa13c3185201cf1f7480c2dfdf"
      },
      "cell_type": "code",
      "source": "# Splitting the train and test datasets\ntrain = total_df[:ntrain]\ntest = total_df[ntrain:]",
      "execution_count": null,
      "outputs": []
    },
    {
      "metadata": {
        "trusted": true,
        "_uuid": "33b4484614e83b774bf9e91d52637dedeba0e1a3"
      },
      "cell_type": "code",
      "source": "# some initializing\n\n# places to store optimal models and scores\nopt_models = dict()\nscore_models = pd.DataFrame(columns=['mean','std'])\n\n# no. k-fold splits\nsplits=5\n# no. k-fold iterations\nrepeats=5",
      "execution_count": null,
      "outputs": []
    },
    {
      "metadata": {
        "trusted": true,
        "_uuid": "4a8245b335f7997d5093df84857a8932465fe04a"
      },
      "cell_type": "code",
      "source": "# metric for evaluation\ndef rmse(y_true, y_pred):\n    diff = y_pred - y_true\n    sum_sq = sum(diff**2)    \n    n = len(y_pred)   \n    \n    return np.sqrt(sum_sq/n)",
      "execution_count": null,
      "outputs": []
    },
    {
      "metadata": {
        "_uuid": "4933cd227519d929d5092c6cb0dbb9ab7bc50de6"
      },
      "cell_type": "markdown",
      "source": "#### Tree Based Regression"
    },
    {
      "metadata": {
        "trusted": true,
        "_uuid": "63634d859244d606fc8103ea789b31542f2e9f1a"
      },
      "cell_type": "code",
      "source": "# LGBM Regression\nlgb_model = lgb.LGBMRegressor(objective='regression',num_leaves=5,\n                              learning_rate=0.05, n_estimators=720,\n                              max_bin = 55, bagging_fraction = 0.8,\n                              bagging_freq = 5, feature_fraction = 0.2319,\n                              feature_fraction_seed=9, bagging_seed=9,\n                              min_data_in_leaf =6, min_sum_hessian_in_leaf = 11)\n\nlgb_model.fit(train.values, y_train)\nlgb_train_pred = lgb_model.predict(train.values)\nlgb_pred = np.expm1(lgb_model.predict(test.values))",
      "execution_count": null,
      "outputs": []
    },
    {
      "metadata": {
        "trusted": true,
        "_uuid": "e766fdd78a4cdd3988573b4856f2e2e80bd17b3b"
      },
      "cell_type": "code",
      "source": "print('score=',lgb_model.score(train.values,y_train))\nprint('rmse=',rmse(y_train, lgb_train_pred))",
      "execution_count": null,
      "outputs": []
    },
    {
      "metadata": {
        "trusted": true,
        "_uuid": "c37ad28432272fd616167762cbc2f9694d1fd474"
      },
      "cell_type": "code",
      "source": "# XGB regressor\nxgb_model = xgb.XGBRegressor(max_depth= 3, learning_rate= 0.05, n_estimators= 800, booster= 'gbtree', gamma= 0, reg_alpha= 0.1,\n                  reg_lambda=0.7, max_delta_step= 0, min_child_weight=1, colsample_bytree=0.5, colsample_bylevel=0.2,\n                  scale_pos_weight=1)\n\nxgb_model.fit(train.values, y_train)\nxgb_train_pred = xgb_model.predict(train.values)\nxgb_pred = np.expm1(xgb_model.predict(test.values))",
      "execution_count": null,
      "outputs": []
    },
    {
      "metadata": {
        "trusted": true,
        "_uuid": "dab30543f087d5657b728494250a55270a1b3351"
      },
      "cell_type": "code",
      "source": "print('score=',xgb_model.score(train.values,y_train))\nprint('rmse=',rmse(y_train, xgb_train_pred))",
      "execution_count": null,
      "outputs": []
    },
    {
      "metadata": {
        "_uuid": "d60464fdd7edd8b193d877b624375a857c8982b9"
      },
      "cell_type": "markdown",
      "source": "#### KNeighbours Regression"
    },
    {
      "metadata": {
        "trusted": true,
        "_uuid": "f031f93acf0b0590c8747a71fbd6d3cdf3e4ae6c"
      },
      "cell_type": "code",
      "source": "#KNearestNeighbours\nknn_model= KNeighborsRegressor()\n\nknn_model.fit(train.values, y_train)\nknn_train_pred = knn_model.predict(train.values)\nknn_pred = np.expm1(knn_model.predict(test.values))",
      "execution_count": null,
      "outputs": []
    },
    {
      "metadata": {
        "trusted": true,
        "_uuid": "e842188eeb3a3600123831cfaf6afbb2ba7a43b2"
      },
      "cell_type": "code",
      "source": "print('score=',knn_model.score(train.values,y_train))\nprint('rmse=',rmse(y_train, knn_train_pred))",
      "execution_count": null,
      "outputs": []
    }
  ],
  "metadata": {
    "kernelspec": {
      "display_name": "Python 3",
      "language": "python",
      "name": "python3"
    },
    "language_info": {
      "name": "python",
      "version": "3.6.6",
      "mimetype": "text/x-python",
      "codemirror_mode": {
        "name": "ipython",
        "version": 3
      },
      "pygments_lexer": "ipython3",
      "nbconvert_exporter": "python",
      "file_extension": ".py"
    }
  },
  "nbformat": 4,
  "nbformat_minor": 1
}